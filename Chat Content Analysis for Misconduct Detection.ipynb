{
 "cells": [
  {
   "cell_type": "code",
   "execution_count": 2,
   "id": "35d09307",
   "metadata": {},
   "outputs": [
    {
     "name": "stdout",
     "output_type": "stream",
     "text": [
      "rahultheogre@gmail.com\n",
      "bathinisaikumar444@gmail.com\n",
      "https://www.innomatics.in/data-science-internship-program/\n",
      "https://www.innomatics.in/data-science-internship-program/\n",
      "https://latex.codecogs.com/eqneditor/editor.php\n",
      "https://www.anaconda.com/download/\n",
      "https://www.anaconda.com/download/\n",
      "https://www.anaconda.com/download/\n",
      "https://www.tableau.com/products/desktop/download\n",
      "https://www.tableau.com/products/desktop/download\n",
      "https://www.youtube.com/watch?v=alJdw4JDJ4o\n",
      "https://www.kaggle.com/datasets\n",
      "https://we.tl/t-zcvxmPSQcr\n",
      "https://we.tl/t-zcvxmPSQcr\n",
      "https://we.tl/t-zcvxmPSQcr\n",
      "munisha0107@gmail.com\n",
      "munisha0107@gmail.com\n",
      "munisha0107@gmail.com\n",
      "munisha0107@gmail.com\n",
      "munisha0107@gmail.com\n",
      "9327012345\n",
      "https://www.anaconda.com/download/\n",
      "https://www.anaconda.com/download/\n",
      "https://www.geeksforgeeks.org/python-bitwise-operators/\n",
      "deepakforaiml@gmail.com\n",
      "9666487498\n",
      "https://zoom.us/j/96664874985?pwd=dTlkSEdIbjNhWk0wRUJ6SjRXUFB2dz09\n",
      "7162531194\n",
      "https://docs.google.com/spreadsheets/d/1anltqhRivUDOGHEzPYRM_5JDIukcKrPO/edit?usp=sharing&ouid=101237162531194526733&rtpof=true&sd=true\n",
      "https://discord.gg/a2tCMgdqsS\n"
     ]
    }
   ],
   "source": [
    "import os\n",
    "import re\n",
    "\n",
    "file_path = r\"C:\\Users\\laxmi\\Downloads\\innomatics_zoom_chat_logs\\innomatics_zoom_chats\"\n",
    "phone_pattern = r'[6789]\\d{9}'  # Adjust the pattern based on the actual format of phone numbers\n",
    "url_pattern = r'\\b(?:https?|ftp):\\/\\/[-A-Za-z0-9+&@#\\/%?=~_|!:,.;]*[-A-Za-z0-9+&@#\\/%=~_|]'\n",
    "email_pattern = r'\\b[A-Za-z0-9._%+-]+@[A-Za-z0-9.-]+\\.[A-Z|a-z]{2,}\\b'\n",
    "with open(csv_file_path, mode='w', newline='', encoding='utf-8') as csv_file:\n",
    "    files = os.listdir(file_path)\n",
    "    for file in files:\n",
    "        full_file_path = os.path.join(file_path, file)\n",
    "        with open(full_file_path, 'r', encoding='utf-8') as f:\n",
    "            file_content = f.read()\n",
    "\n",
    "        phone_numbers = re.findall(phone_pattern, file_content)\n",
    "        if phone_numbers:\n",
    "            for phone in phone_numbers:\n",
    "                print(phone)\n",
    "                \n",
    "        urls = re.findall(url_pattern, file_content)\n",
    "        if urls:\n",
    "            for url in urls:\n",
    "                print(url)\n",
    "        emails = re.findall(email_pattern, file_content)\n",
    "        if emails:\n",
    "            for email in emails:\n",
    "                print(email)"
   ]
  },
  {
   "cell_type": "code",
   "execution_count": null,
   "id": "72770020",
   "metadata": {},
   "outputs": [],
   "source": []
  }
 ],
 "metadata": {
  "kernelspec": {
   "display_name": "Python 3 (ipykernel)",
   "language": "python",
   "name": "python3"
  },
  "language_info": {
   "codemirror_mode": {
    "name": "ipython",
    "version": 3
   },
   "file_extension": ".py",
   "mimetype": "text/x-python",
   "name": "python",
   "nbconvert_exporter": "python",
   "pygments_lexer": "ipython3",
   "version": "3.11.3"
  }
 },
 "nbformat": 4,
 "nbformat_minor": 5
}
